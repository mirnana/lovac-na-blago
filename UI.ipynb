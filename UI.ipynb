{
  "nbformat": 4,
  "nbformat_minor": 0,
  "metadata": {
    "colab": {
      "name": "UI.ipynb",
      "provenance": [],
      "collapsed_sections": []
    },
    "kernelspec": {
      "name": "python3",
      "display_name": "Python 3"
    },
    "language_info": {
      "name": "python"
    }
  },
  "cells": [
    {
      "cell_type": "markdown",
      "source": [
        "# UI - prva domaća zadaća: [Lovac na blago](http://degiorgi.math.hr/~singer/ui/ui_1415/zadace/lit/lovac_na_blago.pdf)\n",
        "\n",
        "Dana je matrica dimenzija $10\\cdot10$ u kojoj su, na nekim koordinatama, upisani podaci o broju novčića koji se nalaze u susjednim poljima. Za danu matricu želimo naći točne koordinate novčića.\n",
        "\n",
        "Prvi korak pri rješavanju problema jest ustanoviti kako izgleda stablo pretraživanja. Svaki čvor stabla bit će jednak jednoj matrici u koju će biti upisani zadani brojevi novčića i označene lokacije zakopanih novčića. Uočavamo da je najjednostavniji način za razraditi stablo sljedeći:\n",
        "*   Korijenski čvor je jednak originalnoj matrici;\n",
        "*   U svakom čvoru djetetu tražimo lokaciju na koju se može dodati još jedan novčić sukladno pravilima lova na blago;\n",
        "*   Ako detektiramo da su sva zadane upute zadovoljene, onda smo gotovi s pretraživanjem.\n",
        "\n",
        "Konkretno, dano polje brojeva zapisat ćemo u matricu (tj. listu lista), s tim da će na praznim mjestima pisati $-1$. Prolazeći po stablu pretraživanja, na ta prazna mjesta upisivat ćemo $10$ ako tamo želimo smjestiti novčić, odnosno $-10$ ako detektiramo da se novčić tamo ne smije pojaviti.\n",
        "\n",
        "Uočimo da zadana pravila mogu biti brojevi između $0$ i $8$, budući da pojedina ćelija ima najviše $8$ susjednih ćelija."
      ],
      "metadata": {
        "id": "99AGg0MM2Qa2"
      }
    },
    {
      "cell_type": "markdown",
      "source": [
        "Navedimo neke funkcije koje ćemo moći koristiti za sve vrste pretraživanja. Za početak, lambde za pretvorbu stanja u tip $\\texttt{list}$ ili $\\texttt{tuple}$:"
      ],
      "metadata": {
        "id": "0tsuChZ82TdG"
      }
    },
    {
      "cell_type": "code",
      "execution_count": null,
      "metadata": {
        "id": "-q4ft7sYJXRY"
      },
      "outputs": [],
      "source": [
        "to_list = lambda node: [list(row) for row in node]\n",
        "to_tuple = lambda node: tuple(tuple(row) for row in node)"
      ]
    },
    {
      "cell_type": "markdown",
      "source": [
        "Pravila lova na blago nalažu da u praznu ćeliju ne možemo staviti novčić ukoliko u nekom od susjednih ćelija postoji uputa koja je već ispunjena, odnosno ako je polje s uputom okruženo točnim brojem novčića. Drugim riječima, ako neka susjedna ćelija sadrži broj između $0$ i $8$, a susjedne ćelije te ćelije ukupno sadrže točno taj broj novčića, onda naša ćelija nije dostupna za novi novčić. Isto tako, ako nijedna susjedna ćelija ne sadrži nikakvo pravilo, nemamo razloga u tu ćeliju staviti novčić. Sljedeća funkcija vraća broj pojavljivanja dane vrijednosti $\\texttt{val}$ u susjednim ćelijama ćelije čvora $\\texttt{node}$ na poziciji $(\\texttt{row}, \\texttt{col})$ (primjerice, ako nas zanima koliko novčića okružuje danu ćeliju, stavimo $\\texttt{val}=10$):"
      ],
      "metadata": {
        "id": "-BCR6Nm_3ZbK"
      }
    },
    {
      "cell_type": "code",
      "source": [
        "def num_of_sorrounding_values(node, row, col, val):\n",
        "    num = 0\n",
        "    n = len(node)\n",
        "    directions = [ (1, 0), (-1, 0), (0, 1), (0, -1), (1, -1), (1, 1), (-1, 1), (-1, -1) ]\n",
        "    for dx, dy in directions:\n",
        "        if row + dx in range(n) and col + dy in range(n) and node[row + dx][col + dy] == val:\n",
        "            num += 1\n",
        "    return num"
      ],
      "metadata": {
        "id": "tfdpNfn9KRz6"
      },
      "execution_count": null,
      "outputs": []
    },
    {
      "cell_type": "markdown",
      "source": [
        "Nadalje, za potrebe označavanja ćelije $(\\texttt{row}, \\texttt{col})$ ćelijom koja sadrži ili ne smije sadržavati novčić, koristit ćemo funkciju za postavljanje vrijednosti na tim koordinatama:"
      ],
      "metadata": {
        "id": "cqM6El2w5ILK"
      }
    },
    {
      "cell_type": "code",
      "source": [
        "def set_value(node, row, col, val):\n",
        "    node = to_list(node)\n",
        "    node[row][col] = val\n",
        "    return to_tuple(node)"
      ],
      "metadata": {
        "id": "d9rNdZ_HREwZ"
      },
      "execution_count": null,
      "outputs": []
    },
    {
      "cell_type": "markdown",
      "source": [
        "Sljedeća funkcija vraća skup svih stanja koja mogu naslijediti dano stanje čvora $\\texttt{node}$ ako u trenutno stanje dodamo točno jedan novčić (naravno, na neko od legalnih mjesta). Pretpostavljamo da će sva ilegalna mjesta biti označena prije poziva ove funkcije."
      ],
      "metadata": {
        "id": "sfdPpi0B5a41"
      }
    },
    {
      "cell_type": "code",
      "source": [
        "def expand(node):\n",
        "    n = len(node)\n",
        "    new_nodes = set()\n",
        "    for row in range(n):\n",
        "        for col in range(n):\n",
        "            if node[row][col] == -1:\n",
        "                new_nodes.add(set_value(node, row, col, 10))\n",
        "    return new_nodes"
      ],
      "metadata": {
        "id": "MqS4GdJqRi7g"
      },
      "execution_count": null,
      "outputs": []
    },
    {
      "cell_type": "markdown",
      "source": [
        "Koristit ćemo i funkciju za detektiranje je li dano stanje jednako ciljnom. Ako su sva pravila zadovoljena, onda je igra riješena."
      ],
      "metadata": {
        "id": "ZnRMU9525ytQ"
      }
    },
    {
      "cell_type": "code",
      "source": [
        "def search_done(node):\n",
        "    n = len(node)\n",
        "    for i in range(n):\n",
        "        for j in range(n):\n",
        "            if node[i][j] in range(9) and num_of_sorrounding_values(node, i, j, 10) != node[i][j]:\n",
        "                return False\n",
        "    return True"
      ],
      "metadata": {
        "id": "7-pAUFReUUE6"
      },
      "execution_count": null,
      "outputs": []
    },
    {
      "cell_type": "markdown",
      "source": [
        "Kako bismo smanjili broj grana koje nastaju od svakog čvora, koristimo funkciju koja uzima čvor, detektira na koja mjesta nikako ne smije doći novčić i ta mjesta označava s $-10$; potom funkcija vraća taj prilagođeni čvor. Drugim riječima, ova funkcija označava ilegalna mjesta."
      ],
      "metadata": {
        "id": "mg3dpQAv6DtL"
      }
    },
    {
      "cell_type": "code",
      "source": [
        "def optimise(node):                 #označuje prazna mjesta na koja sigurno ne može doći novčić s -10\n",
        "    n = len(node)\n",
        "    directions = [ (1, 0), (-1, 0), (0, 1), (0, -1), (1, -1), (1, 1), (-1, 1), (-1, -1) ]\n",
        "    for row in range(n):\n",
        "        for col in range(n):\n",
        "            if node[row][col] == -1:\n",
        "                temp = 0\n",
        "                for i in range(1, 9):\n",
        "                    temp += num_of_sorrounding_values(node, row, col, i)\n",
        "                if temp == 0:          #ako oko ćelije nema pravila po kojem bi tu bio novčić, onda tu ne smije biti novčić\n",
        "                    node = set_value(node, row, col, -10)\n",
        "                for dx, dy in directions:\n",
        "                    if row + dx in range(n) and col + dy in range(n):               #ako je u okolini ćelije neko pravilo koje je ispunjeno, onda tu ne smije biti novčić\n",
        "                        if node[row + dx][col + dy] in range(9) and num_of_sorrounding_values(node, row + dx, row + dy, 10) >= node[row + dx][col + dy]:\n",
        "                            node = set_value(node, row, col, -10)\n",
        "    return nodeLifoQueue("
      ],
      "metadata": {
        "id": "sk_D4LAWtwxn"
      },
      "execution_count": null,
      "outputs": []
    },
    {
      "cell_type": "markdown",
      "source": [
        "Na kraju, dodajmo i metodu za ispis čvora. Na mjestu gdje stoji novčić ispisat ćemo N, na prazno mjesto samo točku, a pravila prepisujemo normalno."
      ],
      "metadata": {
        "id": "VaPoRaza6nBN"
      }
    },
    {
      "cell_type": "code",
      "source": [
        "def print_node(node):\n",
        "    n = len(node)\n",
        "    for i in range(n):\n",
        "        for j in range(n):\n",
        "            temp = node[i][j]\n",
        "            if temp in range(9):\n",
        "                print(temp, end = ' ')\n",
        "            elif temp <= 0:\n",
        "                print('.', end = ' ')\n",
        "            else:\n",
        "                print('N', end = ' ')\n",
        "        print('')"
      ],
      "metadata": {
        "id": "q3ubbOEt6zPU"
      },
      "execution_count": null,
      "outputs": []
    },
    {
      "cell_type": "markdown",
      "source": [
        "## Pretraživanje u širinu\n",
        "\n",
        "Konačno, imamo sve spremno za implementaciju algoritma za pretraživanje u širinu. Kao što znamo, ovaj algoritam za strukutru podataka koristi red (queue). Kako bismo smanjili količinu grana u stablu, u red stavljamo samo optimizirane čvorove i otvaramo samo čvorove koji nisu već posjećeni."
      ],
      "metadata": {
        "id": "YE9-GGVY6p7u"
      }
    },
    {
      "cell_type": "code",
      "source": [
        "import queue\n",
        "\n",
        "def breadth_first_search(root):\n",
        "    open = queue.Queue()\n",
        "    open.put(optimise(root))\n",
        "    visited = set()\n",
        "    while open.empty() == False:\n",
        "        node = open.get()\n",
        "        if node in visited:\n",
        "            continue\n",
        "        if search_done(node):\n",
        "            return node\n",
        "        for x in expand(node):\n",
        "            if x not in visited:\n",
        "                open.put(optimise(x))\n",
        "        visited.add(node)\n",
        "    n = len(root)\n",
        "    return to_tuple([[-10] * n for _ in range(n)])              #ako ne nađemo dobro rješenje, vratit ćemo neku matricu napunjenu s -1"
      ],
      "metadata": {
        "id": "AbFL2T7sSwvK"
      },
      "execution_count": null,
      "outputs": []
    },
    {
      "cell_type": "markdown",
      "source": [
        "Slijede primjeri pokretanja BFS-a, od kojih su četiri moja, te dva prepisana iz dokumenta sa zadatkom."
      ],
      "metadata": {
        "id": "yAOC8fY8xzZP"
      }
    },
    {
      "cell_type": "code",
      "source": [
        "%%time\n",
        "node = [[-1] * 4 for _ in range(4)]\n",
        "node[0][0] = 0\n",
        "node[0][2] = node[1][1] = 1\n",
        "node[1][3] = node[2][0] = 2\n",
        "node[2][1] = 4\n",
        "print(\"poziv BFS na sljedećoj matrici:\")\n",
        "print_node(node)\n",
        "print('\\n')\n",
        "new_node = breadth_first_search(node)\n",
        "print('rezultat je:')\n",
        "print_node(new_node)"
      ],
      "metadata": {
        "id": "ypLr-MEsS0X9"
      },
      "execution_count": null,
      "outputs": []
    },
    {
      "cell_type": "code",
      "source": [
        "%%time\n",
        "node = [[-1] * 6 for _ in range(6)]\n",
        "node[0][0] = node[2][4] = node[5][1] = 0\n",
        "node[0][2] = node[1][1] = node[4][4] = node[5][3] = 1\n",
        "node[0][4] = node[1][3] = node[2][0] = 2\n",
        "node[4][1] = 3\n",
        "node[2][1] = 4\n",
        "print(\"poziv BFS na sljedećoj matrici:\")\n",
        "print_node(node)\n",
        "print('\\n')\n",
        "new_node = breadth_first_search(node)\n",
        "print('rezultat je:')\n",
        "print_node(new_node)"
      ],
      "metadata": {
        "id": "yaXwrvwLZKAY"
      },
      "execution_count": null,
      "outputs": []
    },
    {
      "cell_type": "code",
      "source": [
        "%%time\n",
        "node = [[-1] * 7 for _ in range(7)]\n",
        "node[0][0] = node[2][4] = node[5][1] = node[2][6] = node[3][6] = node[6][0] = node[6][2] = node[6][4] = 0\n",
        "node[0][2] = node[1][1] = node[3][4] = node[5][3] = node[1][6] = node[5][6] = 1\n",
        "node[0][4] = node[1][3] = node[2][0] = node[4][3] = 2\n",
        "node[4][1] = 3\n",
        "node[2][1] = 4\n",
        "print(\"poziv BFS na sljedećoj matrici:\")\n",
        "print_node(node)\n",
        "print('\\n')\n",
        "new_node = breadth_first_search(node)\n",
        "print('rezultat je:')\n",
        "print_node(new_node)"
      ],
      "metadata": {
        "id": "PMF1b6jhvPIA"
      },
      "execution_count": null,
      "outputs": []
    },
    {
      "cell_type": "code",
      "source": [
        "%%time\n",
        "node = [[-1] * 8 for _ in range(8)]\n",
        "for i in range(5):\n",
        "    node[i][7] = 0\n",
        "    node[7][i] = 0\n",
        "node[0][0] = node[2][4] = node[5][1] = node[2][6] = node[3][6] = node[6][0] = node[6][2] = node[6][4] = 0\n",
        "node[0][2] = node[1][1] = node[3][4] = node[5][3] = node[1][6] = node[5][6] = 1\n",
        "node[0][4] = node[1][3] = node[2][0] = node[4][3] = 2\n",
        "node[4][1] = 3\n",
        "node[2][1] = 4\n",
        "print(\"poziv BFS na sljedećoj matrici:\")\n",
        "print_node(node)\n",
        "print('\\n')\n",
        "new_node = breadth_first_search(node)\n",
        "print('rezultat je:')\n",
        "print_node(new_node)"
      ],
      "metadata": {
        "id": "IyCEA6ID4RZ3"
      },
      "execution_count": null,
      "outputs": []
    },
    {
      "cell_type": "code",
      "source": [
        "%%time\n",
        "#primjer (a)\n",
        "node = [[-1] * 10 for _ in range(10)]\n",
        "node[1][1] = node[2][1] = node[6][3] = 0\n",
        "node[1][2] = node[2][3] = node[3][4] = node[7][4] = node[9][2] = 1\n",
        "node[0][6] = node[0][8] = node[3][9] = node[4][0] = node[4][8] = node[5][6] = node[6][0] = node[7][0] = node[7][3] = node[9][1] = node[9][3] = node[9][8] = 2\n",
        "node[1][5] = node[1][8] = node[4][7] = node[5][7] = node[7][6] = node[8][7] = node[9][6] = 3\n",
        "node[1][6] = node[2][8] = node[5][2] = node[7][7] = node[7][8] = 4\n",
        "print(\"poziv BFS na sljedećoj matrici:\")\n",
        "print_node(node)\n",
        "print('\\n')\n",
        "new_node = breadth_first_search(node)\n",
        "print('rezultat je:')\n",
        "print_node(new_node)"
      ],
      "metadata": {
        "id": "Zi_wvBrdwx-4"
      },
      "execution_count": null,
      "outputs": []
    },
    {
      "cell_type": "code",
      "source": [
        "%%time\n",
        "#primjer (b)\n",
        "node = [[-1] * 10 for _ in range(10)]\n",
        "node[1][0] = node[2][0] = node[2][7] = node[9][1] = 0\n",
        "node[1][2] = node[1][4] = node[1][7] = node[1][9] = node[2][5] = node[2][9] = node[3][5] = node[4][0] = node[5][4] = node[5][9] = node[8][9] = 1\n",
        "node[1][8] = node[2][3] = node[3][6] = node[6][0] = node[6][2] = node[7][7] = node[8][0] = 2\n",
        "node[3][8] = node[4][3] = node[5][5] = node[5][7] = node[7][4] = node[7][6] = node[8][7] = 3\n",
        "node[9][6] = 4\n",
        "node[8][4] = 6\n",
        "print(\"poziv BFS na sljedećoj matrici:\")\n",
        "print_node(node)\n",
        "print('\\n')\n",
        "new_node = breadth_first_search(node)\n",
        "print('rezultat je:')\n",
        "print_node(new_node)depth_first"
      ],
      "metadata": {
        "id": "C290DVfB3W-6"
      },
      "execution_count": null,
      "outputs": []
    },
    {
      "cell_type": "markdown",
      "source": [
        "## Pretraživanje u dubinu\n",
        "\n",
        "Vrlo slično implementiramo i pretraživanje u dubinu, samo umjesto reda koristimo stog. Python nema strukutru stog u obliku posebne strukture podataka, ali postoji struktura $\\texttt{queue.LifoQueue}$, koja je u stvari LIFO red, odnosno red u kojem element koji je zadnji ubačen, zadnji iz njega izlazi. Naravno, takva strukutra ekvivalentna je stogu pa ju koristimo za implementaciju algoritma."
      ],
      "metadata": {
        "id": "bTswirB77dYM"
      }
    },
    {
      "cell_type": "code",
      "source": [
        "def depth_first_search(root):                 #razlikuje se od BFS samo po strukturi 'open'!\n",
        "    open = queue.LifoQueue()\n",
        "    open.put(optimise(root))\n",
        "    visited = set()\n",
        "    while open.empty() == False:\n",
        "        node = open.get()\n",
        "        if node in visited:\n",
        "            continue\n",
        "        if search_done(node):\n",
        "            return node\n",
        "        for x in expand(node):\n",
        "            if x not in visited:\n",
        "                open.put(optimise(x))\n",
        "        visited.add(node)\n",
        "    n = len(root)\n",
        "    return to_tuple([[-10] * n for _ in range(n)])              #ako ne nađemo dobro rješenje, vratit ćemo neku matricu napunjenu s -1"
      ],
      "metadata": {
        "id": "a82xh4mF1I2D"
      },
      "execution_count": null,
      "outputs": []
    },
    {
      "cell_type": "markdown",
      "source": [
        "Pokrećemo iste primjere kao kod BFS-a:"
      ],
      "metadata": {
        "id": "4TXK7UGbyAqv"
      }
    },
    {
      "cell_type": "code",
      "source": [
        "%%time\n",
        "node = [[-1] * 4 for _ in range(4)]\n",
        "node[0][0] = 0\n",
        "node[0][2] = node[1][1] = 1\n",
        "node[1][3] = node[2][0] = 2\n",
        "node[2][1] = 4\n",
        "print(\"poziv DFS na sljedećoj matrici:\")\n",
        "print_node(node)\n",
        "print('\\n')\n",
        "new_node = depth_first_search(node)\n",
        "print('rezultat je:')\n",
        "print_node(new_node)"
      ],
      "metadata": {
        "id": "i0JnJrwp1clm"
      },
      "execution_count": null,
      "outputs": []
    },
    {
      "cell_type": "code",
      "source": [
        "%%time\n",
        "node = [[-1] * 6 for _ in range(6)]\n",
        "node[0][0] = node[2][4] = node[5][1] = 0\n",
        "node[0][2] = node[1][1] = node[4][4] = node[5][3] = 1\n",
        "node[0][4] = node[1][3] = node[2][0] = 2\n",
        "node[4][1] = 3\n",
        "node[2][1] = 4\n",
        "print(\"poziv DFS na sljedećoj matrici:\")\n",
        "print_node(node)\n",
        "print('\\n')\n",
        "new_node = depth_first_search(node)\n",
        "print('rezultat je:')\n",
        "print_node(new_node)"
      ],
      "metadata": {
        "id": "BL8PDoi6bzQn"
      },
      "execution_count": null,
      "outputs": []
    },
    {
      "cell_type": "code",
      "source": [
        "%%time\n",
        "node = [[-1] * 7 for _ in range(7)]\n",
        "node[0][0] = node[2][4] = node[5][1] = node[2][6] = node[3][6] = node[6][0] = node[6][2] = node[6][4] = 0\n",
        "node[0][2] = node[1][1] = node[3][4] = node[5][3] = node[1][6] = node[5][6] = 1\n",
        "node[0][4] = node[1][3] = node[2][0] = node[4][3] = 2\n",
        "node[4][1] = 3\n",
        "node[2][1] = 4\n",
        "print(\"poziv DFS na sljedećoj matrici:\")\n",
        "print_node(node)\n",
        "print('\\n')\n",
        "new_node = depth_first_search(node)\n",
        "print('rezultat je:')\n",
        "print_node(new_node)"
      ],
      "metadata": {
        "id": "gN1nu0K2_4Ag"
      },
      "execution_count": null,
      "outputs": []
    },
    {
      "cell_type": "code",
      "source": [
        "%%time\n",
        "node = [[-1] * 8 for _ in range(8)]\n",
        "for i in range(5):\n",
        "    node[i][7] = 0\n",
        "    node[7][i] = 0\n",
        "node[0][0] = node[2][4] = node[5][1] = node[2][6] = node[3][6] = node[6][0] = node[6][2] = node[6][4] = 0\n",
        "node[0][2] = node[1][1] = node[3][4] = node[5][3] = node[1][6] = node[5][6] = 1\n",
        "node[0][4] = node[1][3] = node[2][0] = node[4][3] = 2\n",
        "node[4][1] = 3\n",
        "node[2][1] = 4\n",
        "print(\"poziv DFS na sljedećoj matrici:\")\n",
        "print_node(node)\n",
        "print('\\n')\n",
        "new_node = depth_first_search(node)\n",
        "print('rezultat je:')\n",
        "print_node(new_node)"
      ],
      "metadata": {
        "id": "TBT0WODLAAg5"
      },
      "execution_count": null,
      "outputs": []
    },
    {
      "cell_type": "code",
      "source": [
        "%%time\n",
        "#primjer (a)\n",
        "node = [[-1] * 10 for _ in range(10)]\n",
        "node[1][1] = node[2][1] = node[6][3] = 0\n",
        "node[1][2] = node[2][3] = node[3][4] = node[7][4] = node[9][2] = 1\n",
        "node[0][6] = node[0][8] = node[3][9] = node[4][0] = node[4][8] = node[5][6] = node[6][0] = node[7][0] = node[7][3] = node[9][1] = node[9][3] = node[9][8] = 2\n",
        "node[1][5] = node[1][8] = node[4][7] = node[5][7] = node[7][6] = node[8][7] = node[9][6] = 3\n",
        "node[1][6] = node[2][8] = node[5][2] = node[7][7] = node[7][8] = 4\n",
        "print(\"poziv DFS na sljedećoj matrici:\")\n",
        "print_node(node)\n",
        "print('\\n')\n",
        "new_node = depth_first_search(node)\n",
        "print('rezultat je:')\n",
        "print_node(new_node)"
      ],
      "metadata": {
        "id": "4_0aeqnKxuJo"
      },
      "execution_count": null,
      "outputs": []
    },
    {
      "cell_type": "code",
      "source": [
        "%%time\n",
        "#primjer (b)\n",
        "node = [[-1] * 10 for _ in range(10)]\n",
        "node[1][0] = node[2][0] = node[2][7] = node[9][1] = 0\n",
        "node[1][2] = node[1][4] = node[1][7] = node[1][9] = node[2][5] = node[2][9] = node[3][5] = node[4][0] = node[5][4] = node[5][9] = node[8][9] = 1\n",
        "node[1][8] = node[2][3] = node[3][6] = node[6][0] = node[6][2] = node[7][7] = node[8][0] = 2\n",
        "node[3][8] = node[4][3] = node[5][5] = node[5][7] = node[7][4] = node[7][6] = node[8][7] = 3\n",
        "node[9][6] = 4\n",
        "node[8][4] = 6\n",
        "print(\"poziv DFS na sljedećoj matrici:\")\n",
        "print_node(node)\n",
        "print('\\n')\n",
        "new_node = depth_first_search(node)\n",
        "print('rezultat je:')\n",
        "print_node(new_node)"
      ],
      "metadata": {
        "id": "66tOWuOa5Ee-"
      },
      "execution_count": null,
      "outputs": []
    },
    {
      "cell_type": "markdown",
      "source": [
        "##A* pretraživanje\n",
        "\n",
        "Prethodni algoritmi pretraživanja nisu uzimali u obzir cijenu kopanja novčića. Međutim, ovaj algoritam koristi i stvarnu cijenu iskopa, kao i neku heuristiku kao procjenu koliko kopanja je potrebno od trenutnog do ciljnog stanja.\n"
      ],
      "metadata": {
        "id": "dRw-xEZI8dcV"
      }
    },
    {
      "cell_type": "markdown",
      "source": [
        "Za početak, uvedimo funkciju koja vraća ukupan broj novčića u danom čvoru. Naime, broj novčića u trenutnom čvoru je točno jednak broju koraka napravljenih od startnog stanja do trenutnog, budući da se svaki korak (tj. prijelaz iz roditeljskog čvora u dijete) sastoji od dodavanja točno jednog novčića."
      ],
      "metadata": {
        "id": "9UUeh1vGtQz_"
      }
    },
    {
      "cell_type": "code",
      "source": [
        "def total_coins(node):\n",
        "    n = len(node)\n",
        "    num = 0\n",
        "    for row in range(n):\n",
        "        for col in range(n):LifoQueue(\n",
        "            if node[row][col] == 10:\n",
        "                num += 1\n",
        "    return num"
      ],
      "metadata": {
        "id": "tVRmkX3UtWiC"
      },
      "execution_count": null,
      "outputs": []
    },
    {
      "cell_type": "markdown",
      "source": [
        "Heuristika nam može raditi na način da nas usmjerava tako da stavljamo novčiće na mjesta kod kojih ima najviše uputa (odnosno najviše brojeva između $0$ i $8$ koji određuju poziciju novčića). Ovo možemo postići na način da promatramo ukupan zbroj takvih brojeva na ploči, te svaki put kad dodamo novčić negdje, umanjimo taj ukupni zbroj. Drugim riječima, kad je novčić dodan, susjedna mu pravila smiju dobiti za jedan manje dodatnih novčića.\n",
        "\n",
        "Formalizirajmo ovo. Neka je $\\texttt{State}$ neko stanje igre. Tada je heuristika $h$ dana s:\n",
        "$$h(\\texttt{State})=\\sum_{\\quad\\quad i,j\\\\ \\texttt{State}[i][j]\\in[0,8]}(\\texttt{State}[i][j]-\\texttt{num_of_sorrounding_vals}(\\texttt{State}, i, j, 10)). $$\n",
        "\n",
        "Ova heuristika je dobro definirana jer je monotono nerastuća kako se približavamo ciljnom stanju; vrijednost heuristike u ciljnom stanju iznosi $0$.\n",
        "\n",
        "Međutim, uočavamo da ova heuristika nažalost nije optimistična. Naime, već u korijenskom čvoru vidimo da zbroj uputa može biti veći ili jednak ukupnom broju novčića, dakle heuristika precjenjuje broj koraka do cilja. Ipak, čak i uz korištenje neoptimalne heuristike, pretraživanje radi brže od BFS-a i DFS-a."
      ],
      "metadata": {
        "id": "wjjzkpBH3T6B"
      }
    },
    {
      "cell_type": "code",
      "source": [
        "def heuristic(node):\n",
        "    n = len(node)\n",
        "    num = 0\n",
        "    for row in range(n):\n",
        "        for col in range(n):\n",
        "            if node[row][col] in range(9):\n",
        "                num += node[row][col] - num_of_sorrounding_values(node, row, col, 10)\n",
        "    return num"
      ],
      "metadata": {
        "id": "mE3CZoxEKizp"
      },
      "execution_count": null,
      "outputs": []
    },
    {
      "cell_type": "markdown",
      "source": [
        "Napokon, implementirajmo i A* algoritam za pretraživanje:"
      ],
      "metadata": {
        "id": "fIHrTnMi16N6"
      }
    },
    {
      "cell_type": "code",
      "source": [
        "import heapq\n",
        "\n",
        "def a_star_search(root):\n",
        "    root = optimise(root)\n",
        "    open = []\n",
        "    heapq.heappush(open, (heuristic(root), root))\n",
        "    visited = set()\n",
        "    while len(open) > 0:\n",
        "        temp = heapq.heappop(open)\n",
        "        priority = temp[0]\n",
        "        node = temp[1]\n",
        "        if node in visited:\n",
        "            continue\n",
        "        if search_done(node):\n",
        "            return node\n",
        "        for x in expand(node):\n",
        "            x = optimise(x)\n",
        "            if x not in visited:\n",
        "                temp = heuristic(x) + total_coins(x)\n",
        "                heapq.heappush(open, (temp, x))\n",
        "        visited.add(node)\n",
        "    return to_tuple([[-10] * n for _ in range(n)])              #ako ne nađemo dobro rješenje, vratit ćemo neku matricu napunjenu s -1"
      ],
      "metadata": {
        "id": "CYajoApLLEka"
      },
      "execution_count": null,
      "outputs": []
    },
    {
      "cell_type": "markdown",
      "source": [
        "Koristimo iste primjere kao ranije za pokretanje:"
      ],
      "metadata": {
        "id": "Q7TP4N-72Uz4"
      }
    },
    {
      "cell_type": "code",
      "source": [
        "%%time\n",
        "node = [[-1] * 4 for _ in range(4)]\n",
        "node[0][0] = 0\n",
        "node[0][2] = node[1][1] = 1\n",
        "node[1][3] = node[2][0] = 2\n",
        "node[2][1] = 4\n",
        "print(\"poziv A* na sljedećoj matrici:\")\n",
        "print_node(node)\n",
        "print('\\n')\n",
        "new_node = a_star_search(node)\n",
        "print('rezultat je:')\n",
        "print_node(new_node)"
      ],
      "metadata": {
        "id": "CSy2air12Yo0"
      },
      "execution_count": null,
      "outputs": []
    },
    {
      "cell_type": "code",
      "source": [
        "%%time\n",
        "node = [[-1] * 6 for _ in range(6)]\n",
        "node[0][0] = node[2][4] = node[5][1] = 0\n",
        "node[0][2] = node[1][1] = node[4][4] = node[5][3] = 1\n",
        "node[0][4] = node[1][3] = node[2][0] = 2\n",
        "node[4][1] = 3\n",
        "node[2][1] = 4\n",
        "print(\"poziv A* na sljedećoj matrici:\")\n",
        "print_node(node)\n",
        "print('\\n')\n",
        "new_node = a_star_search(node)\n",
        "print('rezultat je:')\n",
        "print_node(new_node)"
      ],
      "metadata": {
        "id": "e63eBes0b7WF"
      },
      "execution_count": null,
      "outputs": []
    },
    {
      "cell_type": "code",
      "source": [
        "%%time\n",
        "node = [[-1] * 7 for _ in range(7)]\n",
        "node[0][0] = node[2][4] = node[5][1] = node[2][6] = node[3][6] = node[6][0] = node[6][2] = node[6][4] = 0\n",
        "node[0][2] = node[1][1] = node[3][4] = node[5][3] = node[1][6] = node[5][6] = 1\n",
        "node[0][4] = node[1][3] = node[2][0] = node[4][3] = 2\n",
        "node[4][1] = 3\n",
        "node[2][1] = 4\n",
        "print(\"poziv A* na sljedećoj matrici:\")\n",
        "print_node(node)\n",
        "print('\\n')\n",
        "new_node = a_star_search(node)\n",
        "print('rezultat je:')\n",
        "print_node(new_node)"
      ],
      "metadata": {
        "id": "C3runiWsANO2"
      },
      "execution_count": null,
      "outputs": []
    },
    {
      "cell_type": "code",
      "source": [
        "%%time\n",
        "node = [[-1] * 8 for _ in range(8)]\n",
        "for i in range(5):\n",
        "    node[i][7] = 0\n",
        "    node[7][i] = 0\n",
        "node[0][0] = node[2][4] = node[5][1] = node[2][6] = node[3][6] = node[6][0] = node[6][2] = node[6][4] = 0\n",
        "node[0][2] = node[1][1] = node[3][4] = node[5][3] = node[1][6] = node[5][6] = 1\n",
        "node[0][4] = node[1][3] = node[2][0] = node[4][3] = 2\n",
        "node[4][1] = 3\n",
        "node[2][1] = 4\n",
        "print(\"poziv A* na sljedećoj matrici:\")\n",
        "print_node(node)\n",
        "print('\\n')\n",
        "new_node = a_star_search(node)\n",
        "print('rezultat je:')\n",
        "print_node(new_node)"
      ],
      "metadata": {
        "id": "IoVJNqK6AGVx"
      },
      "execution_count": null,
      "outputs": []
    },
    {
      "cell_type": "code",
      "source": [
        "%%time\n",
        "#primjer (a)\n",
        "node = [[-1] * 10 for _ in range(10)]\n",
        "node[1][1] = node[2][1] = node[6][3] = 0\n",
        "node[1][2] = node[2][3] =node[3][4] =node[7][4] =node[9][2] = 1\n",
        "node[0][6] =node[0][8] =node[3][9] =node[4][0] =node[4][8] =node[5][6] = node[6][0] = node[7][0] = node[7][3] = node[9][1] = node[9][3] = node[9][8] = 2\n",
        "node[1][5] = node[1][8] = node[4][7] = node[5][7] = node[7][6] = node[8][7] = node[9][6] = 3\n",
        "node[1][6] = node[2][8] = node[5][2] = node[7][7] = node[7][8] = 4\n",
        "print(\"poziv A* na sljedećoj matrici:\")\n",
        "print_node(node)\n",
        "print('\\n')\n",
        "new_node = a_star_search(node)\n",
        "print('rezultat je:')\n",
        "print_node(new_node)"
      ],
      "metadata": {
        "id": "qF40WiG_eXFs"
      },
      "execution_count": null,
      "outputs": []
    },
    {
      "cell_type": "code",
      "source": [
        "%%time\n",
        "#primjer (b)\n",
        "node = [[-1] * 10 for _ in range(10)]\n",
        "node[1][0] = node[2][0] = node[2][7] = node[9][1] = 0\n",
        "node[1][2] = node[1][4] = node[1][7] = node[1][9] = node[2][5] = node[2][9] = node[3][5] = node[4][0] = node[5][4] = node[5][9] = node[8][9] = 1\n",
        "node[1][8] = node[2][3] = node[3][6] = node[6][0] = node[6][2] = node[7][7] = node[8][0] = 2\n",
        "node[3][8] = node[4][3] = node[5][5] = node[5][7] = node[7][4] = node[7][6] = node[8][7] = 3\n",
        "node[9][6] = 4\n",
        "node[8][4] = 6\n",
        "print(\"poziv A* na sljedećoj matrici:\")\n",
        "print_node(node)\n",
        "print('\\n')\n",
        "new_node = a_star_search(node)\n",
        "print('rezultat je:')\n",
        "print_node(new_node)"
      ],
      "metadata": {
        "id": "y9KTKIiV5LIO"
      },
      "execution_count": null,
      "outputs": []
    }
  ]
}